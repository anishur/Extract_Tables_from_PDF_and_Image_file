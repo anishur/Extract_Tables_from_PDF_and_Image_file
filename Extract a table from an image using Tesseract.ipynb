{
 "cells": [
  {
   "cell_type": "code",
   "execution_count": 1,
   "id": "016e32b8-30cd-41d9-b069-f26b90bc1259",
   "metadata": {},
   "outputs": [],
   "source": []
  },
  {
   "cell_type": "code",
   "execution_count": 2,
   "id": "e3974505-0f00-4674-ba8e-d169ec920315",
   "metadata": {},
   "outputs": [],
   "source": [
    "import cv2\n",
    "import pytesseract"
   ]
  },
  {
   "cell_type": "code",
   "execution_count": 3,
   "id": "f356cc17-d9de-4d49-a1d4-fa616546ea01",
   "metadata": {},
   "outputs": [],
   "source": [
    "pytesseract.pytesseract.tesseract_cmd = r\"C:\\Program Files\\Tesseract-OCR\\tesseract.exe\""
   ]
  },
  {
   "cell_type": "code",
   "execution_count": 4,
   "id": "d07b9a97-c6b7-44ff-8fd5-51b845995ba4",
   "metadata": {},
   "outputs": [],
   "source": [
    "img_cv = cv2.imread('page7.jpg')"
   ]
  },
  {
   "cell_type": "code",
   "execution_count": 5,
   "id": "33729560-3dc9-48b0-8613-2bfbaa916279",
   "metadata": {},
   "outputs": [],
   "source": [
    "img_resized = cv2.resize(img_cv,\n",
    "                         (int(img_cv.shape[1] + (img_cv.shape[1] * .1)),\n",
    "                          int(img_cv.shape[0] + (img_cv.shape[0] * .25))),\n",
    "                          interpolation = cv2.INTER_AREA)"
   ]
  },
  {
   "cell_type": "code",
   "execution_count": 6,
   "id": "ea3396b8-fac2-4b51-bded-806120d7f16d",
   "metadata": {},
   "outputs": [],
   "source": [
    "img_rgb = cv2.cvtColor(img_resized, cv2.COLOR_BGR2RGB)"
   ]
  },
  {
   "cell_type": "code",
   "execution_count": 7,
   "id": "c17790c0-ff56-4e65-b2f6-ff3d5cbdfb86",
   "metadata": {},
   "outputs": [
    {
     "name": "stdout",
     "output_type": "stream",
     "text": [
      "(e] ®\n",
      "NUTRITION & BEYOND\n",
      "\n",
      "5 - FLUXOS DE CAIXA\n",
      "\n",
      "Caixa e Depdsitos Bancarios\n",
      "\n",
      "A desagregacdo desta rubrica é a seguinte:\n",
      "\n",
      "Designacao 31/12/2021 | 31/12/2020\n",
      "369,43 150,66\n",
      "184.005,62| 73 930,43\n",
      "Outros depdsitos bancarios a as)\n",
      "Po 184 375,05] 74 081,09\n",
      "\n",
      "6 - ACTIVOS INTANGIVEIS\n",
      "\n",
      "6.1 O movimento nas rubricas de activos intangiveis foi o seguinte:\n",
      "\n",
      "Situagao Inicial Situagdo final ( 31/12/2021)\n",
      "DepreciagGes Depreciagées\n",
      "e imparidades Quantia e Imparidades Quantia\n",
      "Quantia bruta acumuladas Escriturada Quantia bruta acumuladas Escriturada\n",
      "Programas de computador 156 107,19 116 191,67 39 915,52 150 838,46 120 441,07 30 397,39\n",
      "“Tee02308 14810816 ~ 39915,52 ~  182209,85 15181246 | _30397,39\n",
      "Quantia Amortiz do Quantia\n",
      "Escriturada Inicial Adigdes Alienagdes Exercicia Transferéncias Abates Escriturada final\n",
      "Propriedade industrial 000 — 900 ~— 000\n",
      "Programas de computador 39 915,52 0,00 9 518,13 0,00 19 036,26 30 397,39\n",
      "\n",
      "SS\n",
      "39 915,52 0,00 0,00 9 518,13 0,00 19 036,26 30 397,39\n",
      "\n",
      "6.2 Goodwill\n",
      "\n",
      "Durante o exercicio findo em 31 de dezembro de 2021 nao ocorreram quaisquer\n",
      "movimentos na rubrica Goodwill.\n",
      "\n",
      "O valor escriturado na rubrica Goodwill decorre da transferéncia do negocio (trespasse) da\n",
      "nutricdo animal da IBERIL, S.A., cuja atividade foi transferida para a empresa-mae Invivonsa,\n",
      "atual ADM Portugal, SA.\n",
      "\n",
      "O Goodwill nao é amortizado, sendo efetuados testes de imparidade com uma periodicidade\n",
      "anual.\n",
      "\n",
      "ADM Portugal, S.A. - Zona Industrial de Murtede - 3060-372 Murtede - Cantanhede - Portugal\n",
      "Tel +351 231 209 900 - Email: geral.portugal@wisium.com - www.wisium.pt\n",
      "Contribuinte n° 501 446 214 - R.C. de Cantanhede n° 501 446 214\n",
      "\n",
      "\n"
     ]
    }
   ],
   "source": [
    "print(pytesseract.image_to_string(img_rgb))"
   ]
  },
  {
   "cell_type": "code",
   "execution_count": 8,
   "id": "3b7228d0-f59d-4af9-a1b2-03479ea037bd",
   "metadata": {},
   "outputs": [],
   "source": [
    "# To write this output in CSV file"
   ]
  },
  {
   "cell_type": "code",
   "execution_count": 9,
   "id": "444ebb44-62f2-41aa-bf3a-f7d404485f67",
   "metadata": {},
   "outputs": [],
   "source": [
    "\n",
    "output = pytesseract.image_to_string(img_rgb)\n"
   ]
  },
  {
   "cell_type": "code",
   "execution_count": 10,
   "id": "5ec0b5c1-b70d-43bd-9515-fec952cf24ca",
   "metadata": {},
   "outputs": [],
   "source": [
    "\n",
    "with open('output_pytesseract.csv', 'w') as f:\n",
    "\n",
    "    f.write(output)\n",
    "\n",
    "    "
   ]
  },
  {
   "cell_type": "code",
   "execution_count": 11,
   "id": "e9591c19-eb5c-45c4-b9ef-49088141de93",
   "metadata": {},
   "outputs": [],
   "source": [
    "import pandas as pd"
   ]
  },
  {
   "cell_type": "code",
   "execution_count": 33,
   "id": "26db9f5a-a6b4-4af3-9b3a-ab1111f79245",
   "metadata": {},
   "outputs": [],
   "source": [
    "\n",
    "\n",
    "#df = pd.read_csv('output_pytesseract.csv', encoding = \"unicode_escape\", header=[0,1,2,3], sep=r'\\(\\)(|\\|)', engine='python')\n",
    "\n",
    "df = pd.read_csv('output_pytesseract.csv',  encoding = \"unicode_escape\",  sep=r'\\(\\)(|\\|)', engine='python')\n",
    "\n"
   ]
  },
  {
   "cell_type": "code",
   "execution_count": 34,
   "id": "e21a4938-50e4-4d3e-9207-2f3cbad11c19",
   "metadata": {},
   "outputs": [
    {
     "data": {
      "text/html": [
       "<div>\n",
       "<style scoped>\n",
       "    .dataframe tbody tr th:only-of-type {\n",
       "        vertical-align: middle;\n",
       "    }\n",
       "\n",
       "    .dataframe tbody tr th {\n",
       "        vertical-align: top;\n",
       "    }\n",
       "\n",
       "    .dataframe thead th {\n",
       "        text-align: right;\n",
       "    }\n",
       "</style>\n",
       "<table border=\"1\" class=\"dataframe\">\n",
       "  <thead>\n",
       "    <tr style=\"text-align: right;\">\n",
       "      <th></th>\n",
       "      <th>(e] ®</th>\n",
       "    </tr>\n",
       "  </thead>\n",
       "  <tbody>\n",
       "    <tr>\n",
       "      <th>0</th>\n",
       "      <td>NUTRITION &amp; BEYOND</td>\n",
       "    </tr>\n",
       "    <tr>\n",
       "      <th>1</th>\n",
       "      <td>5 - FLUXOS DE CAIXA</td>\n",
       "    </tr>\n",
       "    <tr>\n",
       "      <th>2</th>\n",
       "      <td>Caixa e Depdsitos Bancarios</td>\n",
       "    </tr>\n",
       "    <tr>\n",
       "      <th>3</th>\n",
       "      <td>A desagregacdo desta rubrica é a seguinte:</td>\n",
       "    </tr>\n",
       "    <tr>\n",
       "      <th>4</th>\n",
       "      <td>Designacao 31/12/2021 | 31/12/2020</td>\n",
       "    </tr>\n",
       "    <tr>\n",
       "      <th>5</th>\n",
       "      <td>369,43 150,66</td>\n",
       "    </tr>\n",
       "    <tr>\n",
       "      <th>6</th>\n",
       "      <td>184.005,62| 73 930,43</td>\n",
       "    </tr>\n",
       "    <tr>\n",
       "      <th>7</th>\n",
       "      <td>Outros depdsitos bancarios a as)</td>\n",
       "    </tr>\n",
       "    <tr>\n",
       "      <th>8</th>\n",
       "      <td>Po 184 375,05] 74 081,09</td>\n",
       "    </tr>\n",
       "    <tr>\n",
       "      <th>9</th>\n",
       "      <td>6 - ACTIVOS INTANGIVEIS</td>\n",
       "    </tr>\n",
       "    <tr>\n",
       "      <th>10</th>\n",
       "      <td>6.1 O movimento nas rubricas de activos intang...</td>\n",
       "    </tr>\n",
       "    <tr>\n",
       "      <th>11</th>\n",
       "      <td>Situagao Inicial Situagdo final ( 31/12/2021)</td>\n",
       "    </tr>\n",
       "    <tr>\n",
       "      <th>12</th>\n",
       "      <td>DepreciagGes Depreciagées</td>\n",
       "    </tr>\n",
       "    <tr>\n",
       "      <th>13</th>\n",
       "      <td>e imparidades Quantia e Imparidades Quantia</td>\n",
       "    </tr>\n",
       "    <tr>\n",
       "      <th>14</th>\n",
       "      <td>Quantia bruta acumuladas Escriturada Quantia b...</td>\n",
       "    </tr>\n",
       "    <tr>\n",
       "      <th>15</th>\n",
       "      <td>Programas de computador 156 107,19 116 191,67 ...</td>\n",
       "    </tr>\n",
       "    <tr>\n",
       "      <th>16</th>\n",
       "      <td>Tee02308 14810816 ~ 39915,52 ~  182209,85 151...</td>\n",
       "    </tr>\n",
       "    <tr>\n",
       "      <th>17</th>\n",
       "      <td>Quantia Amortiz do Quantia</td>\n",
       "    </tr>\n",
       "    <tr>\n",
       "      <th>18</th>\n",
       "      <td>Escriturada Inicial Adigdes Alienagdes Exercic...</td>\n",
       "    </tr>\n",
       "    <tr>\n",
       "      <th>19</th>\n",
       "      <td>Propriedade industrial 000  900 ~ 000</td>\n",
       "    </tr>\n",
       "    <tr>\n",
       "      <th>20</th>\n",
       "      <td>Programas de computador 39 915,52 0,00 9 518,1...</td>\n",
       "    </tr>\n",
       "    <tr>\n",
       "      <th>21</th>\n",
       "      <td>SS</td>\n",
       "    </tr>\n",
       "    <tr>\n",
       "      <th>22</th>\n",
       "      <td>39 915,52 0,00 0,00 9 518,13 0,00 19 036,26 30...</td>\n",
       "    </tr>\n",
       "    <tr>\n",
       "      <th>23</th>\n",
       "      <td>6.2 Goodwill</td>\n",
       "    </tr>\n",
       "    <tr>\n",
       "      <th>24</th>\n",
       "      <td>Durante o exercicio findo em 31 de dezembro de...</td>\n",
       "    </tr>\n",
       "    <tr>\n",
       "      <th>25</th>\n",
       "      <td>movimentos na rubrica Goodwill.</td>\n",
       "    </tr>\n",
       "    <tr>\n",
       "      <th>26</th>\n",
       "      <td>O valor escriturado na rubrica Goodwill decorr...</td>\n",
       "    </tr>\n",
       "    <tr>\n",
       "      <th>27</th>\n",
       "      <td>nutricdo animal da IBERIL, S.A., cuja atividad...</td>\n",
       "    </tr>\n",
       "    <tr>\n",
       "      <th>28</th>\n",
       "      <td>atual ADM Portugal, SA.</td>\n",
       "    </tr>\n",
       "    <tr>\n",
       "      <th>29</th>\n",
       "      <td>O Goodwill nao é amortizado, sendo efetuados t...</td>\n",
       "    </tr>\n",
       "    <tr>\n",
       "      <th>30</th>\n",
       "      <td>anual.</td>\n",
       "    </tr>\n",
       "    <tr>\n",
       "      <th>31</th>\n",
       "      <td>ADM Portugal, S.A. - Zona Industrial de Murted...</td>\n",
       "    </tr>\n",
       "    <tr>\n",
       "      <th>32</th>\n",
       "      <td>Tel +351 231 209 900 - Email: geral.portugal@w...</td>\n",
       "    </tr>\n",
       "    <tr>\n",
       "      <th>33</th>\n",
       "      <td>Contribuinte n° 501 446 214 - R.C. de Cantanhe...</td>\n",
       "    </tr>\n",
       "  </tbody>\n",
       "</table>\n",
       "</div>"
      ],
      "text/plain": [
       "                                                (e] ®\n",
       "0                                  NUTRITION & BEYOND\n",
       "1                                 5 - FLUXOS DE CAIXA\n",
       "2                         Caixa e Depdsitos Bancarios\n",
       "3          A desagregacdo desta rubrica é a seguinte:\n",
       "4                  Designacao 31/12/2021 | 31/12/2020\n",
       "5                                       369,43 150,66\n",
       "6                               184.005,62| 73 930,43\n",
       "7                    Outros depdsitos bancarios a as)\n",
       "8                            Po 184 375,05] 74 081,09\n",
       "9                             6 - ACTIVOS INTANGIVEIS\n",
       "10  6.1 O movimento nas rubricas de activos intang...\n",
       "11      Situagao Inicial Situagdo final ( 31/12/2021)\n",
       "12                          DepreciagGes Depreciagées\n",
       "13        e imparidades Quantia e Imparidades Quantia\n",
       "14  Quantia bruta acumuladas Escriturada Quantia b...\n",
       "15  Programas de computador 156 107,19 116 191,67 ...\n",
       "16  Tee02308 14810816 ~ 39915,52 ~  182209,85 151...\n",
       "17                         Quantia Amortiz do Quantia\n",
       "18  Escriturada Inicial Adigdes Alienagdes Exercic...\n",
       "19            Propriedade industrial 000  900 ~ 000\n",
       "20  Programas de computador 39 915,52 0,00 9 518,1...\n",
       "21                                                 SS\n",
       "22  39 915,52 0,00 0,00 9 518,13 0,00 19 036,26 30...\n",
       "23                                       6.2 Goodwill\n",
       "24  Durante o exercicio findo em 31 de dezembro de...\n",
       "25                    movimentos na rubrica Goodwill.\n",
       "26  O valor escriturado na rubrica Goodwill decorr...\n",
       "27  nutricdo animal da IBERIL, S.A., cuja atividad...\n",
       "28                            atual ADM Portugal, SA.\n",
       "29  O Goodwill nao é amortizado, sendo efetuados t...\n",
       "30                                             anual.\n",
       "31  ADM Portugal, S.A. - Zona Industrial de Murted...\n",
       "32  Tel +351 231 209 900 - Email: geral.portugal@w...\n",
       "33  Contribuinte n° 501 446 214 - R.C. de Cantanhe..."
      ]
     },
     "execution_count": 34,
     "metadata": {},
     "output_type": "execute_result"
    }
   ],
   "source": [
    "\n",
    "df\n"
   ]
  },
  {
   "cell_type": "code",
   "execution_count": 41,
   "id": "5f91c7dd-256b-43d5-b695-e6904b749509",
   "metadata": {},
   "outputs": [
    {
     "data": {
      "text/html": [
       "<div>\n",
       "<style scoped>\n",
       "    .dataframe tbody tr th:only-of-type {\n",
       "        vertical-align: middle;\n",
       "    }\n",
       "\n",
       "    .dataframe tbody tr th {\n",
       "        vertical-align: top;\n",
       "    }\n",
       "\n",
       "    .dataframe thead th {\n",
       "        text-align: right;\n",
       "    }\n",
       "</style>\n",
       "<table border=\"1\" class=\"dataframe\">\n",
       "  <thead>\n",
       "    <tr style=\"text-align: right;\">\n",
       "      <th></th>\n",
       "      <th>(e] ®</th>\n",
       "    </tr>\n",
       "  </thead>\n",
       "  <tbody>\n",
       "    <tr>\n",
       "      <th>0</th>\n",
       "      <td>NUTRITION &amp; BEYOND</td>\n",
       "    </tr>\n",
       "    <tr>\n",
       "      <th>1</th>\n",
       "      <td>5 - FLUXOS DE CAIXA</td>\n",
       "    </tr>\n",
       "    <tr>\n",
       "      <th>2</th>\n",
       "      <td>Caixa e Depdsitos Bancarios</td>\n",
       "    </tr>\n",
       "    <tr>\n",
       "      <th>3</th>\n",
       "      <td>A desagregacdo desta rubrica é a seguinte:</td>\n",
       "    </tr>\n",
       "    <tr>\n",
       "      <th>4</th>\n",
       "      <td>Designacao 31/12/2021 | 31/12/2020</td>\n",
       "    </tr>\n",
       "    <tr>\n",
       "      <th>5</th>\n",
       "      <td>369,43 150,66</td>\n",
       "    </tr>\n",
       "    <tr>\n",
       "      <th>6</th>\n",
       "      <td>184.005,62| 73 930,43</td>\n",
       "    </tr>\n",
       "    <tr>\n",
       "      <th>7</th>\n",
       "      <td>Outros depdsitos bancarios a as)</td>\n",
       "    </tr>\n",
       "    <tr>\n",
       "      <th>8</th>\n",
       "      <td>Po 184 375,05] 74 081,09</td>\n",
       "    </tr>\n",
       "    <tr>\n",
       "      <th>9</th>\n",
       "      <td>6 - ACTIVOS INTANGIVEIS</td>\n",
       "    </tr>\n",
       "  </tbody>\n",
       "</table>\n",
       "</div>"
      ],
      "text/plain": [
       "                                        (e] ®\n",
       "0                          NUTRITION & BEYOND\n",
       "1                         5 - FLUXOS DE CAIXA\n",
       "2                 Caixa e Depdsitos Bancarios\n",
       "3  A desagregacdo desta rubrica é a seguinte:\n",
       "4          Designacao 31/12/2021 | 31/12/2020\n",
       "5                               369,43 150,66\n",
       "6                       184.005,62| 73 930,43\n",
       "7            Outros depdsitos bancarios a as)\n",
       "8                    Po 184 375,05] 74 081,09\n",
       "9                     6 - ACTIVOS INTANGIVEIS"
      ]
     },
     "execution_count": 41,
     "metadata": {},
     "output_type": "execute_result"
    }
   ],
   "source": [
    "df.head(10)"
   ]
  },
  {
   "cell_type": "code",
   "execution_count": 39,
   "id": "80b0b553-db8e-4ac5-a174-6bd887e470d3",
   "metadata": {},
   "outputs": [
    {
     "data": {
      "text/plain": [
       "(34, 1)"
      ]
     },
     "execution_count": 39,
     "metadata": {},
     "output_type": "execute_result"
    }
   ],
   "source": [
    "df.shape"
   ]
  },
  {
   "cell_type": "code",
   "execution_count": 40,
   "id": "b1ac0c68-cd8c-4dbd-a755-985dfd430086",
   "metadata": {},
   "outputs": [
    {
     "data": {
      "text/plain": [
       "pandas.core.frame.DataFrame"
      ]
     },
     "execution_count": 40,
     "metadata": {},
     "output_type": "execute_result"
    }
   ],
   "source": [
    "type(df)"
   ]
  },
  {
   "cell_type": "code",
   "execution_count": 49,
   "id": "534b8364-87e0-48e9-9d79-289f6f261a7d",
   "metadata": {},
   "outputs": [],
   "source": [
    "df_1 = df[df.index.isin([3,4,5,6,7,8])]"
   ]
  },
  {
   "cell_type": "code",
   "execution_count": 53,
   "id": "e6509e8a-e185-4cbb-a224-6b9afb5a8729",
   "metadata": {},
   "outputs": [
    {
     "data": {
      "text/html": [
       "<div>\n",
       "<style scoped>\n",
       "    .dataframe tbody tr th:only-of-type {\n",
       "        vertical-align: middle;\n",
       "    }\n",
       "\n",
       "    .dataframe tbody tr th {\n",
       "        vertical-align: top;\n",
       "    }\n",
       "\n",
       "    .dataframe thead th {\n",
       "        text-align: right;\n",
       "    }\n",
       "</style>\n",
       "<table border=\"1\" class=\"dataframe\">\n",
       "  <thead>\n",
       "    <tr style=\"text-align: right;\">\n",
       "      <th></th>\n",
       "      <th>(e] ®</th>\n",
       "    </tr>\n",
       "  </thead>\n",
       "  <tbody>\n",
       "    <tr>\n",
       "      <th>3</th>\n",
       "      <td>A desagregacdo desta rubrica é a seguinte:</td>\n",
       "    </tr>\n",
       "    <tr>\n",
       "      <th>4</th>\n",
       "      <td>Designacao 31/12/2021 | 31/12/2020</td>\n",
       "    </tr>\n",
       "    <tr>\n",
       "      <th>5</th>\n",
       "      <td>369,43 150,66</td>\n",
       "    </tr>\n",
       "    <tr>\n",
       "      <th>6</th>\n",
       "      <td>184.005,62| 73 930,43</td>\n",
       "    </tr>\n",
       "    <tr>\n",
       "      <th>7</th>\n",
       "      <td>Outros depdsitos bancarios a as)</td>\n",
       "    </tr>\n",
       "    <tr>\n",
       "      <th>8</th>\n",
       "      <td>Po 184 375,05] 74 081,09</td>\n",
       "    </tr>\n",
       "  </tbody>\n",
       "</table>\n",
       "</div>"
      ],
      "text/plain": [
       "                                        (e] ®\n",
       "3  A desagregacdo desta rubrica é a seguinte:\n",
       "4          Designacao 31/12/2021 | 31/12/2020\n",
       "5                               369,43 150,66\n",
       "6                       184.005,62| 73 930,43\n",
       "7            Outros depdsitos bancarios a as)\n",
       "8                    Po 184 375,05] 74 081,09"
      ]
     },
     "execution_count": 53,
     "metadata": {},
     "output_type": "execute_result"
    }
   ],
   "source": [
    "df_1"
   ]
  },
  {
   "cell_type": "code",
   "execution_count": 62,
   "id": "569d7e23-c5d6-4fe0-a6f8-1764c060aef1",
   "metadata": {},
   "outputs": [],
   "source": [
    "df_1.to_csv('Test_page7_table_1.csv')"
   ]
  },
  {
   "cell_type": "code",
   "execution_count": 63,
   "id": "ac91e59f-b155-4285-9253-32f6dafc10ad",
   "metadata": {},
   "outputs": [
    {
     "data": {
      "text/html": [
       "<div>\n",
       "<style scoped>\n",
       "    .dataframe tbody tr th:only-of-type {\n",
       "        vertical-align: middle;\n",
       "    }\n",
       "\n",
       "    .dataframe tbody tr th {\n",
       "        vertical-align: top;\n",
       "    }\n",
       "\n",
       "    .dataframe thead th {\n",
       "        text-align: right;\n",
       "    }\n",
       "</style>\n",
       "<table border=\"1\" class=\"dataframe\">\n",
       "  <thead>\n",
       "    <tr style=\"text-align: right;\">\n",
       "      <th></th>\n",
       "      <th>Unnamed: 0</th>\n",
       "      <th>(e] ®</th>\n",
       "    </tr>\n",
       "  </thead>\n",
       "  <tbody>\n",
       "    <tr>\n",
       "      <th>0</th>\n",
       "      <td>3</td>\n",
       "      <td>A desagregacdo desta rubrica é a seguinte:</td>\n",
       "    </tr>\n",
       "    <tr>\n",
       "      <th>1</th>\n",
       "      <td>4</td>\n",
       "      <td>Designacao 31/12/2021 | 31/12/2020</td>\n",
       "    </tr>\n",
       "    <tr>\n",
       "      <th>2</th>\n",
       "      <td>5</td>\n",
       "      <td>369,43 150,66</td>\n",
       "    </tr>\n",
       "    <tr>\n",
       "      <th>3</th>\n",
       "      <td>6</td>\n",
       "      <td>184.005,62| 73 930,43</td>\n",
       "    </tr>\n",
       "    <tr>\n",
       "      <th>4</th>\n",
       "      <td>7</td>\n",
       "      <td>Outros depdsitos bancarios a as)</td>\n",
       "    </tr>\n",
       "    <tr>\n",
       "      <th>5</th>\n",
       "      <td>8</td>\n",
       "      <td>Po 184 375,05] 74 081,09</td>\n",
       "    </tr>\n",
       "  </tbody>\n",
       "</table>\n",
       "</div>"
      ],
      "text/plain": [
       "   Unnamed: 0                                       (e] ®\n",
       "0           3  A desagregacdo desta rubrica é a seguinte:\n",
       "1           4          Designacao 31/12/2021 | 31/12/2020\n",
       "2           5                               369,43 150,66\n",
       "3           6                       184.005,62| 73 930,43\n",
       "4           7            Outros depdsitos bancarios a as)\n",
       "5           8                    Po 184 375,05] 74 081,09"
      ]
     },
     "execution_count": 63,
     "metadata": {},
     "output_type": "execute_result"
    }
   ],
   "source": [
    "df_test = pd.read_csv('Test_page7_table_1.csv')\n",
    "\n",
    "df_test"
   ]
  },
  {
   "cell_type": "code",
   "execution_count": null,
   "id": "9c83add9-ae55-4da3-b6bd-f2a778205c3e",
   "metadata": {},
   "outputs": [],
   "source": []
  }
 ],
 "metadata": {
  "kernelspec": {
   "display_name": "Python 3 (ipykernel)",
   "language": "python",
   "name": "python3"
  },
  "language_info": {
   "codemirror_mode": {
    "name": "ipython",
    "version": 3
   },
   "file_extension": ".py",
   "mimetype": "text/x-python",
   "name": "python",
   "nbconvert_exporter": "python",
   "pygments_lexer": "ipython3",
   "version": "3.10.9"
  }
 },
 "nbformat": 4,
 "nbformat_minor": 5
}
